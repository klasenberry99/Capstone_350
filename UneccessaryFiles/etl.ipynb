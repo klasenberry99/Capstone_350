{
 "cells": [
  {
   "cell_type": "markdown",
   "metadata": {},
   "source": [
    "To manage an ETL process for a Loan Application dataset and a Credit Card dataset: Python (Pandas, advanced modules, e.g., Matplotlib), SQL, Apache Spark (Spark Core, Spark SQL), and Python Visualization and Analytics libraries\n",
    "\n",
    "Learners are expected to set up their environments and perform installations on their local machines."
   ]
  },
  {
   "cell_type": "markdown",
   "metadata": {},
   "source": [
    "                                                    SUBMISSION GUIDLINES\n",
    "\n",
    "Your project should result in a .py PYTHON file that can be run from a console\n",
    "This file should be fully functional when you demo your final project.\n",
    "\n",
    "\n",
    "                        GitHub Requirements\n",
    "\n",
    "Create a new repository.\n",
    "Ensure all files pertaining to your capstone are in the repository: \n",
    "(all notebooks, Python code files, PySpark code files, database scripts, and databases that are part of the project repo)\n",
    "Repository needs to have at least one additional branch off the main branch\n",
    "You must have a properly configured and working git ignore file, and include any sensitive files (credentials, etc.).\n",
    "\n",
    "\n",
    "\n",
    "You must include a properly formatted and effective readme markdown file that explains your project. Take a look at other GitHub repos (good quality ones) and reference their readme files for what it should/could look like for your capstone. It MUST include the following:\n",
    "Documenting the project details and development comments. \n",
    "Documenting technical challenges, along with how they were resolved.\n",
    "You must have a minimum of three commits with properly implemented commit messages and descriptions.\n",
    "\n",
    "\n",
    "                        VS Code Environment Requirements\n",
    "\n",
    "You should have a new VS Code workspace for your Capstone project \n",
    "You should have proper source code management working within VS Code. You should have your VS Code connected to your GitHub repo!\n",
    "Your files should be properly named and organized\n",
    "You should create a properly configured and functional virtual environment and requirements file\n",
    "\n",
    "\n",
    "Submit the GitHub repository link (it will need to be a PUBLIC repo for us to be able to review it)  \n",
    "And zipped copy of your entire repo to the Canvas assignment\n",
    "\n"
   ]
  },
  {
   "cell_type": "markdown",
   "metadata": {},
   "source": [
    "Workflow Diagram of Requirements\n",
    "\n",
    "Create Database named --->\n",
    "(E)xtract Database... Using REST API...  CONNECT with PY_SPARK... ...USING SPARK_SQL ...CREATE STRUCTURE(SCHEMA) to gather required information.        \n",
    "(T)ranslate data from external database schema to necessary data for transactions\n",
    "(L)oad data into tables in the newly created MySql tabels"
   ]
  },
  {
   "cell_type": "markdown",
   "metadata": {},
   "source": [
    "Credit Card System dataset (database) overview\n",
    "\n",
    "a)\tCDW_SAPP_CUSTOMER.JSON: This file has the existing customer details.\n",
    "b)\tCDW_SAPP_CREDITCARD.JSON: This file contains all credit card transaction information.\n",
    "c)\tCDW_SAPP_BRANCH.JSON: Each branch’s information and details are recorded in this file. \n",
    "\n",
    "Each above file has been downloaded and stored in the Capstone_350 folder titled CreditCardJSONFiles\n"
   ]
  },
  {
   "cell_type": "markdown",
   "metadata": {},
   "source": [
    "Business Requirement - ETL\n",
    "\n",
    "Load Credit Card extracted dataset into tables in MySql\n",
    "\n",
    "Functional requirement 1)\n",
    "\n",
    "For “Credit Card System,” create a Python and PySpark SQL program to read/extract the following JSON files \n",
    "according to the specifications found in the Mapping Document (Schema):\n",
    "\n",
    "\n"
   ]
  }
 ],
 "metadata": {
  "kernelspec": {
   "display_name": "Python 3",
   "language": "python",
   "name": "python3"
  },
  "language_info": {
   "name": "python",
   "version": "3.10.10"
  },
  "orig_nbformat": 4
 },
 "nbformat": 4,
 "nbformat_minor": 2
}

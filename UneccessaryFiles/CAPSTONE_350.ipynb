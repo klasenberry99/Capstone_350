{
 "cells": [
  {
   "cell_type": "code",
   "execution_count": 22,
   "metadata": {},
   "outputs": [
    {
     "ename": "TypeError",
     "evalue": "'StructType' object is not callable",
     "output_type": "error",
     "traceback": [
      "\u001b[1;31m---------------------------------------------------------------------------\u001b[0m",
      "\u001b[1;31mTypeError\u001b[0m                                 Traceback (most recent call last)",
      "\u001b[1;32mc:\\Users\\Leaerner_9ZH3Z124\\Documents\\Capstone_350\\CAPSTONE_350.ipynb Cell 1\u001b[0m line \u001b[0;36m6\n\u001b[0;32m     <a href='vscode-notebook-cell:/c%3A/Users/Leaerner_9ZH3Z124/Documents/Capstone_350/CAPSTONE_350.ipynb#W0sZmlsZQ%3D%3D?line=34'>35</a>\u001b[0m df_customer_trans \u001b[39m=\u001b[39m df_customer_trans\u001b[39m.\u001b[39mselect(column_order_cust)\n\u001b[0;32m     <a href='vscode-notebook-cell:/c%3A/Users/Leaerner_9ZH3Z124/Documents/Capstone_350/CAPSTONE_350.ipynb#W0sZmlsZQ%3D%3D?line=38'>39</a>\u001b[0m \u001b[39m'''\u001b[39;00m\n\u001b[0;32m     <a href='vscode-notebook-cell:/c%3A/Users/Leaerner_9ZH3Z124/Documents/Capstone_350/CAPSTONE_350.ipynb#W0sZmlsZQ%3D%3D?line=39'>40</a>\u001b[0m \u001b[39mdf_combined = df.withColumn(\"combined_json\", concat(col(\"json_col1\"), lit(delimiter), col(\"json_col2\")))\u001b[39;00m\n\u001b[0;32m     <a href='vscode-notebook-cell:/c%3A/Users/Leaerner_9ZH3Z124/Documents/Capstone_350/CAPSTONE_350.ipynb#W0sZmlsZQ%3D%3D?line=40'>41</a>\u001b[0m \n\u001b[1;32m   (...)\u001b[0m\n\u001b[0;32m     <a href='vscode-notebook-cell:/c%3A/Users/Leaerner_9ZH3Z124/Documents/Capstone_350/CAPSTONE_350.ipynb#W0sZmlsZQ%3D%3D?line=62'>63</a>\u001b[0m \u001b[39m}\u001b[39;00m\n\u001b[0;32m     <a href='vscode-notebook-cell:/c%3A/Users/Leaerner_9ZH3Z124/Documents/Capstone_350/CAPSTONE_350.ipynb#W0sZmlsZQ%3D%3D?line=63'>64</a>\u001b[0m \u001b[39m'''\u001b[39;00m\n\u001b[1;32m---> <a href='vscode-notebook-cell:/c%3A/Users/Leaerner_9ZH3Z124/Documents/Capstone_350/CAPSTONE_350.ipynb#W0sZmlsZQ%3D%3D?line=65'>66</a>\u001b[0m df_customer_trans\u001b[39m.\u001b[39;49mschema()\n\u001b[0;32m     <a href='vscode-notebook-cell:/c%3A/Users/Leaerner_9ZH3Z124/Documents/Capstone_350/CAPSTONE_350.ipynb#W0sZmlsZQ%3D%3D?line=66'>67</a>\u001b[0m df_customer_trans\u001b[39m.\u001b[39mschema\u001b[39m.\u001b[39mCUST_ZIP \u001b[39m#dataframe type and schema\u001b[39;00m\n\u001b[0;32m     <a href='vscode-notebook-cell:/c%3A/Users/Leaerner_9ZH3Z124/Documents/Capstone_350/CAPSTONE_350.ipynb#W0sZmlsZQ%3D%3D?line=67'>68</a>\u001b[0m df_customer_trans\u001b[39m.\u001b[39mprintSchema() \u001b[39m#\u001b[39;00m\n",
      "\u001b[1;31mTypeError\u001b[0m: 'StructType' object is not callable"
     ]
    }
   ],
   "source": [
    "import glob                         \n",
    "import numpy as np\n",
    "from datetime import datetime\n",
    "import findspark\n",
    "findspark.init() \n",
    "import pyspark\n",
    "from pyspark.sql import SparkSession\n",
    "from pyspark.sql.functions import col, concat, initcap, lit, lower, substring, when, coalesce, expr, length, to_date\n",
    "import requests\n",
    "\n",
    "#Create an active SparkSession \n",
    "spark = SparkSession.builder.getOrCreate()\n",
    "\n",
    "#EXTRACT json file into a dataframe. \n",
    "#These json files were downloaded and placed in the folder with VS Code file Jupyter notebook\n",
    "df_customer = spark.read.json(\"cdw_sapp_custmer.json\")\n",
    "df_branch = spark.read.json(\"cdw_sapp_branch.json\")\n",
    "df_cc = spark.read.json(\"cdw_sapp_credit.json\")\n",
    "\n",
    "\n",
    "#TRANSFORM DF according to \"mapping\" documentation\n",
    "\n",
    "df_customer_trans = df_customer.withColumn(\"FIRST_NAME\", initcap(col(\"FIRST_NAME\"))) \\\n",
    "                                .withColumn(\"MIDDLE_NAME\",lower(col(\"MIDDLE_NAME\"))) \\\n",
    "                                .withColumn(\"LAST_NAME\", initcap(col(\"LAST_NAME\"))) \\\n",
    "                                .withColumn(\"FULL_STREET_ADDRESS\", concat(col(\"APT_NO\"), lit(\",\"),col(\"STREET_NAME\"))) \\\n",
    "                                .withColumn((\"CUST_PHONE\"), concat(lit(\"(123)\"),col(\"CUST_PHONE\"))) \\\n",
    "                                .withColumn(\"SSN\", col(\"SSN\").cast(\"int\")) \\\n",
    "                                .withColumn(\"CUST_ZIP\", col(\"CUST_ZIP\").cast(\"int\")) \\\n",
    "                                .withColumn(\"LAST_UPDATED\", col(\"LAST_UPDATED\").cast(\"timestamp\"))\n",
    "                                \n",
    "#Reordering and dropping columns according to mapping document\n",
    "#By creating a list of mapping order columns and reording dataframe\n",
    "\n",
    "column_order_cust = [\"SSN\", \"FIRST_NAME\", \"MIDDLE_NAME\", \"LAST_NAME\", \"CREDIT_CARD_NO\", \"FULL_STREET_ADDRESS\", \"CUST_CITY\", \"CUST_STATE\", \"CUST_COUNTRY\", \"CUST_ZIP\", \"CUST_PHONE\", \"CUST_EMAIL\", \"LAST_UPDATED\"]\n",
    "df_customer_trans = df_customer_trans.select(column_order_cust)\n",
    "\n",
    "df_combined = df.withColumn(\"combined_json\", concat(col(\"json_col1\"), lit(delimiter), col(\"json_col2\")))\n",
    "\n",
    "\n",
    "df_customer_trans.printSchema() \n",
    "df_customer_trans.show()"
   ]
  },
  {
   "cell_type": "code",
   "execution_count": 18,
   "metadata": {},
   "outputs": [
    {
     "name": "stdout",
     "output_type": "stream",
     "text": [
      "+-----------------+-----------+------------+------------+------------+-------------------+----------+-------------------+\n",
      "|      BRANCH_CITY|BRANCH_CODE| BRANCH_NAME|BRANCH_PHONE|BRANCH_STATE|      BRANCH_STREET|BRANCH_ZIP|       LAST_UPDATED|\n",
      "+-----------------+-----------+------------+------------+------------+-------------------+----------+-------------------+\n",
      "|        Lakeville|          1|Example Bank|(123)4565276|          MN|       Bridle Court|     55044|2018-04-18 13:51:47|\n",
      "|          Huntley|          2|Example Bank|(123)4618993|          IL|  Washington Street|     60142|2018-04-18 13:51:47|\n",
      "|SouthRichmondHill|          3|Example Bank|(123)4985926|          NY|      Warren Street|     11419|2018-04-18 13:51:47|\n",
      "|       Middleburg|          4|Example Bank|(123)4663064|          FL|   Cleveland Street|     32068|2018-04-18 13:51:47|\n",
      "|    KingOfPrussia|          5|Example Bank|(123)4849701|          PA|        14th Street|     19406|2018-04-18 13:51:47|\n",
      "|         Paterson|          7|Example Bank|(123)4144890|          NJ|   Jefferson Street|     07501|2018-04-18 13:51:47|\n",
      "|        Pittsford|          8|Example Bank|(123)4678272|          NY|           B Street|     14534|2018-04-18 13:51:47|\n",
      "|     Wethersfield|          9|Example Bank|(123)4675219|          CT|    Jefferson Court|     06109|2018-04-18 13:51:47|\n",
      "|     NorthOlmsted|         10|Example Bank|(123)4145047|          OH|     Cambridge Road|     44070|2018-04-18 13:51:47|\n",
      "|     Hillsborough|         11|Example Bank|(123)4366354|          NJ|    3rd Street West|     08844|2018-04-18 13:51:47|\n",
      "|   MadisonHeights|         12|Example Bank|(123)4867175|          MI|          Mill Road|     48071|2018-04-18 13:51:47|\n",
      "|           Oviedo|         14|Example Bank|(123)4938460|          FL|  Washington Street|     32765|2018-04-18 13:51:47|\n",
      "|    Mechanicsburg|         15|Example Bank|(123)4462043|          PA|    Chestnut Street|     17050|2018-04-18 13:51:47|\n",
      "|        Plainview|         16|Example Bank|(123)4857525|          NY|       Monroe Drive|     11803|2018-04-18 13:51:47|\n",
      "|          Paducah|         17|Example Bank|(123)4546360|          KY|    Railroad Street|     42001|2018-04-18 13:51:47|\n",
      "|     Harleysville|         18|Example Bank|(123)4824455|          PA|Church Street South|     19438|2018-04-18 13:51:47|\n",
      "|     SilverSpring|         19|Example Bank|(123)4484380|          MD|        King Street|     20901|2018-04-18 13:51:47|\n",
      "|       Burnsville|         20|Example Bank|(123)4840138|          MN|   Canterbury Drive|     55337|2018-04-18 13:51:47|\n",
      "|           Tacoma|         21|Example Bank|(123)4362433|          WA|         2nd Avenue|     98444|2018-04-18 13:51:47|\n",
      "|         Carlisle|         22|Example Bank|(123)4922492|          PA| Front Street South|     17013|2018-04-18 13:51:47|\n",
      "+-----------------+-----------+------------+------------+------------+-------------------+----------+-------------------+\n",
      "only showing top 20 rows\n",
      "\n"
     ]
    }
   ],
   "source": [
    "df_branch = spark.read.json(\"cdw_sapp_branch.json\")\n",
    "\n",
    "df_branch_trans = df_branch.withColumn(\"BRANCH_CODE\", col(\"BRANCH_CODE\").cast(\"int\")) \\\n",
    "                                .withColumn(\"LAST_UPDATED\", col(\"LAST_UPDATED\").cast(\"timestamp\")) \\\n",
    "                                .withColumn(\"BRANCH_ZIP\", when(length(col(\"BRANCH_ZIP\")) == 5, col(\"BRANCH_ZIP\").cast(\"int\"))\n",
    "                                            .otherwise(when(col(\"BRANCH_ZIP\").isNull(), lit(99999))\n",
    "                                            .otherwise(concat(lit('0'),col(\"BRANCH_ZIP\").cast(\"string\").cast(\"int\")))))\\\n",
    "                                .withColumn(\"BRANCH_PHONE\", \n",
    "                                            concat(\n",
    "                                                lit(\"(\"),\n",
    "                                                substring(col(\"BRANCH_PHONE\"), 1,3),\n",
    "                                                lit(\")\"),\n",
    "                                                substring(col(\"BRANCH_PHONE\"), 4,7)))\n",
    "                              \n",
    "                                \n",
    "df_branch_trans.show()\n"
   ]
  },
  {
   "cell_type": "code",
   "execution_count": 21,
   "metadata": {},
   "outputs": [
    {
     "name": "stdout",
     "output_type": "stream",
     "text": [
      "root\n",
      " |-- BRANCH_CODE: integer (nullable = true)\n",
      " |-- CREDIT_CARD_NO: string (nullable = true)\n",
      " |-- CUST_SSN: integer (nullable = true)\n",
      " |-- DAY: long (nullable = true)\n",
      " |-- MONTH: long (nullable = true)\n",
      " |-- TRANSACTION_ID: integer (nullable = true)\n",
      " |-- TRANSACTION_TYPE: string (nullable = true)\n",
      " |-- TRANSACTION_VALUE: double (nullable = true)\n",
      " |-- YEAR: long (nullable = true)\n",
      " |-- CUST_CC_NO: string (nullable = true)\n",
      " |-- TIMEID: date (nullable = true)\n",
      "\n",
      "+-----------+----------------+---------+---+-----+--------------+----------------+-----------------+----+\n",
      "|BRANCH_CODE|  CREDIT_CARD_NO| CUST_SSN|DAY|MONTH|TRANSACTION_ID|TRANSACTION_TYPE|TRANSACTION_VALUE|YEAR|\n",
      "+-----------+----------------+---------+---+-----+--------------+----------------+-----------------+----+\n",
      "|        114|4210653349028689|123459988| 14|    2|             1|       Education|             78.9|2018|\n",
      "|         35|4210653349028689|123459988| 20|    3|             2|   Entertainment|            14.24|2018|\n",
      "|        160|4210653349028689|123459988|  8|    7|             3|         Grocery|             56.7|2018|\n",
      "|        114|4210653349028689|123459988| 19|    4|             4|   Entertainment|            59.73|2018|\n",
      "|         93|4210653349028689|123459988| 10|   10|             5|             Gas|             3.59|2018|\n",
      "|        164|4210653349028689|123459988| 28|    5|             6|       Education|             6.89|2018|\n",
      "|        119|4210653349028689|123459988| 19|    5|             7|   Entertainment|            43.39|2018|\n",
      "|         23|4210653349028689|123459988|  8|    8|             8|             Gas|            95.39|2018|\n",
      "|        166|4210653349028689|123459988| 18|    3|             9|   Entertainment|            93.26|2018|\n",
      "|         83|4210653349028689|123459988|  3|    9|            10|           Bills|           100.38|2018|\n",
      "|         52|4210653349028689|123459988| 21|    8|            11|             Gas|            98.75|2018|\n",
      "|         17|4210653349028689|123459988| 24|   12|            12|             Gas|            42.71|2018|\n",
      "|         80|4210653349028689|123459988|  3|    4|            13|         Grocery|            40.24|2018|\n",
      "|         50|4210653349028689|123459988| 15|    4|            14|           Bills|            17.81|2018|\n",
      "|        123|4210653349028689|123459988| 17|    5|            15|           Bills|             29.0|2018|\n",
      "|          9|4210653349028689|123459988|  6|    7|            16|            Test|            70.63|2018|\n",
      "|          3|4210653349028689|123459988| 28|    9|            17|            Test|            27.04|2018|\n",
      "|        135|4210653349028689|123459988|  4|    7|            18|   Entertainment|            88.75|2018|\n",
      "|        103|4210653349028689|123459988| 24|    4|            19|            Test|            77.02|2018|\n",
      "|         78|4210653349028689|123459988|  8|   10|            20|           Bills|            34.34|2018|\n",
      "+-----------+----------------+---------+---+-----+--------------+----------------+-----------------+----+\n",
      "only showing top 20 rows\n",
      "\n"
     ]
    }
   ],
   "source": [
    "df_cc = spark.read.json(\"cdw_sapp_credit.json\")\n",
    "\n",
    "df_cc_trans = df_cc.withColumn(\"CUST_SSN\", col(\"CUST_SSN\").cast(\"int\")) \\\n",
    "                    .withColumn(\"BRANCH_CODE\",col(\"BRANCH_CODE\").cast(\"int\")) \\\n",
    "                    .withColumn(\"CUST_CC_NO\",col(\"CREDIT_CARD_NO\")) \\\n",
    "                    .withColumn(\"TIMEID\", to_date(concat(col(\"YEAR\"),col(\"MONTH\"),col(\"DAY\")), 'yyyyMMdd')) \\\n",
    "                    .withColumn(\"TRANSACTION_ID\", col(\"TRANSACTION_ID\").cast(\"int\"))\n",
    "\n",
    " \n",
    "                    \n",
    "df_cc_trans.printSchema()\n",
    "df_cc.show()\n"
   ]
  }
 ],
 "metadata": {
  "kernelspec": {
   "display_name": "Python 3",
   "language": "python",
   "name": "python3"
  },
  "language_info": {
   "codemirror_mode": {
    "name": "ipython",
    "version": 3
   },
   "file_extension": ".py",
   "mimetype": "text/x-python",
   "name": "python",
   "nbconvert_exporter": "python",
   "pygments_lexer": "ipython3",
   "version": "3.10.10"
  },
  "orig_nbformat": 4
 },
 "nbformat": 4,
 "nbformat_minor": 2
}
